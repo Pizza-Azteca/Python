{
  "nbformat": 4,
  "nbformat_minor": 0,
  "metadata": {
    "colab": {
      "provenance": [],
      "authorship_tag": "ABX9TyOcDFjXqps0Z8zDiZfAL0uj",
      "include_colab_link": true
    },
    "kernelspec": {
      "name": "python3",
      "display_name": "Python 3"
    },
    "language_info": {
      "name": "python"
    }
  },
  "cells": [
    {
      "cell_type": "markdown",
      "metadata": {
        "id": "view-in-github",
        "colab_type": "text"
      },
      "source": [
        "<a href=\"https://colab.research.google.com/github/Pizza-Azteca/Python/blob/main/01.INTRODUCCION/EVALUACION1.ipynb\" target=\"_parent\"><img src=\"https://colab.research.google.com/assets/colab-badge.svg\" alt=\"Open In Colab\"/></a>"
      ]
    },
    {
      "cell_type": "markdown",
      "source": [
        "\n",
        "Práctica 1. 6 puntos\n",
        "\n",
        "1 Práctica 1: Conociendo Python.\n",
        "\n",
        "Objetivo: Identificar el nivel de comprensión de los conceptos mediante preguntas abiertas.\n",
        "\n",
        "Responder las siguientes preguntas:\n",
        "\n",
        "1.1 ¿Qué es python? (2 puntos)\n",
        "\n",
        "Es un lenguaje de programación\n",
        "\n",
        "1.2 ¿Es multiplataforma en que sistemas operativos funciona ? (2 puntos)\n",
        "\n",
        "Si es multiplataforma y funciona en las plataformas: UNIX, Solaris, Linux, DOS, Windows, OS/2, Mac OS, etc\n",
        "\n",
        "1.3 Ejercicio 1 (2 puntos) Escribir un programa que pregunte al usuario su nombre, y luego lo salude."
      ],
      "metadata": {
        "id": "bwd3DY7lhEhw"
      }
    },
    {
      "cell_type": "code",
      "source": [
        "nom=input('Escribe tu nombre')\n",
        "print(f'Hola {nom}')"
      ],
      "metadata": {
        "id": "NZibR1yjhHr8"
      },
      "execution_count": null,
      "outputs": []
    }
  ]
}